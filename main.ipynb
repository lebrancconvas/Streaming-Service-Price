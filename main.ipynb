{
 "cells": [
  {
   "cell_type": "code",
   "execution_count": 1,
   "metadata": {},
   "outputs": [],
   "source": [
    "import numpy as np\n",
    "import pandas as pd"
   ]
  },
  {
   "cell_type": "code",
   "execution_count": 2,
   "metadata": {},
   "outputs": [],
   "source": [
    "df = pd.read_json('data.json')"
   ]
  },
  {
   "cell_type": "code",
   "execution_count": 3,
   "metadata": {},
   "outputs": [
    {
     "name": "stdout",
     "output_type": "stream",
     "text": [
      "                                                 data\n",
      "0   {'id': 1, 'name': 'Netflix', 'price': {'monthl...\n",
      "1   {'id': 2, 'name': 'Disney+ (Hotstar)', 'price'...\n",
      "2   {'id': 3, 'name': 'Mubi', 'price': {'monthly':...\n",
      "3   {'id': 4, 'name': 'HBO Go', 'price': {'monthly...\n",
      "4   {'id': 5, 'name': 'Apple TV', 'price': {'month...\n",
      "5   {'id': 6, 'name': 'Amazon Prime', 'price': {'m...\n",
      "6   {'id': 7, 'name': 'Bilibili', 'price': {'month...\n",
      "7   {'id': 8, 'name': 'Viu', 'price': {'monthly': ...\n",
      "8   {'id': 9, 'name': 'iQiyi', 'price': {'monthly'...\n",
      "9   {'id': 10, 'name': 'WeTV', 'price': {'monthly'...\n",
      "10  {'id': 11, 'name': 'Monomax', 'price': {'month...\n"
     ]
    }
   ],
   "source": [
    "print(df)"
   ]
  },
  {
   "cell_type": "code",
   "execution_count": 4,
   "metadata": {},
   "outputs": [
    {
     "name": "stdout",
     "output_type": "stream",
     "text": [
      "                                                                                                                                                                                             data\n",
      "0                                                                       {'id': 1, 'name': 'Netflix', 'price': {'monthly': {'mobile': 99.0, 'basic': 169.0, 'standard': 349.0, 'premium': 419.0}}}\n",
      "1                                                {'id': 2, 'name': 'Disney+ (Hotstar)', 'price': {'monthly': {'mobile': 99.0, 'premium': 289.0}, 'yearly': {'mobile': 799.0, 'premium': 2290.0}}}\n",
      "2                                                                                            {'id': 3, 'name': 'Mubi', 'price': {'monthly': {'standard': 279.0}, 'yearly': {'standard': 2149.0}}}\n",
      "3                                                        {'id': 4, 'name': 'HBO Go', 'price': {'monthly': {'standard': 199.0}, 'yearly': {'standard': 1071.0}, 'quarterly': {'standard': 244.3}}}\n",
      "4                                                                                                                        {'id': 5, 'name': 'Apple TV', 'price': {'monthly': {'standard': 199.0}}}\n",
      "5                                                                                                                    {'id': 6, 'name': 'Amazon Prime', 'price': {'monthly': {'standard': 149.0}}}\n",
      "6                                                        {'id': 7, 'name': 'Bilibili', 'price': {'monthly': {'standard': 69.0}, 'yearly': {'standard': 499.0}, 'quarterly': {'standard': 207.0}}}\n",
      "7                                                           {'id': 8, 'name': 'Viu', 'price': {'monthly': {'standard': 149.0}, 'yearly': {'standard': 1490.0}, 'quarterly': {'standard': 395.0}}}\n",
      "8                                                                                           {'id': 9, 'name': 'iQiyi', 'price': {'monthly': {'standard': 119.0}, 'yearly': {'standard': 1200.0}}}\n",
      "9   {'id': 10, 'name': 'WeTV', 'price': {'monthly': {'standard': 129.0, 'premium': 219.0}, 'yearly': {'standard': 1200.0, 'premium': 949.0}, 'quarterly': {'standard': 339.0, 'premium': 429.0}}}\n",
      "10                                                                                       {'id': 11, 'name': 'Monomax', 'price': {'monthly': {'standard': 250.0}, 'yearly': {'standard': 1699.0}}}\n"
     ]
    }
   ],
   "source": [
    "print(df.to_string())"
   ]
  },
  {
   "cell_type": "code",
   "execution_count": 5,
   "metadata": {},
   "outputs": [
    {
     "name": "stdout",
     "output_type": "stream",
     "text": [
      "0     {'id': 1, 'name': 'Netflix', 'price': {'monthl...\n",
      "1     {'id': 2, 'name': 'Disney+ (Hotstar)', 'price'...\n",
      "2     {'id': 3, 'name': 'Mubi', 'price': {'monthly':...\n",
      "3     {'id': 4, 'name': 'HBO Go', 'price': {'monthly...\n",
      "4     {'id': 5, 'name': 'Apple TV', 'price': {'month...\n",
      "5     {'id': 6, 'name': 'Amazon Prime', 'price': {'m...\n",
      "6     {'id': 7, 'name': 'Bilibili', 'price': {'month...\n",
      "7     {'id': 8, 'name': 'Viu', 'price': {'monthly': ...\n",
      "8     {'id': 9, 'name': 'iQiyi', 'price': {'monthly'...\n",
      "9     {'id': 10, 'name': 'WeTV', 'price': {'monthly'...\n",
      "10    {'id': 11, 'name': 'Monomax', 'price': {'month...\n",
      "Name: data, dtype: object\n"
     ]
    }
   ],
   "source": [
    "print(df.data)"
   ]
  },
  {
   "cell_type": "code",
   "execution_count": 6,
   "metadata": {},
   "outputs": [],
   "source": [
    "data = df.data"
   ]
  },
  {
   "cell_type": "code",
   "execution_count": 7,
   "metadata": {},
   "outputs": [
    {
     "name": "stdout",
     "output_type": "stream",
     "text": [
      "0     {'id': 1, 'name': 'Netflix', 'price': {'monthl...\n",
      "1     {'id': 2, 'name': 'Disney+ (Hotstar)', 'price'...\n",
      "2     {'id': 3, 'name': 'Mubi', 'price': {'monthly':...\n",
      "3     {'id': 4, 'name': 'HBO Go', 'price': {'monthly...\n",
      "4     {'id': 5, 'name': 'Apple TV', 'price': {'month...\n",
      "5     {'id': 6, 'name': 'Amazon Prime', 'price': {'m...\n",
      "6     {'id': 7, 'name': 'Bilibili', 'price': {'month...\n",
      "7     {'id': 8, 'name': 'Viu', 'price': {'monthly': ...\n",
      "8     {'id': 9, 'name': 'iQiyi', 'price': {'monthly'...\n",
      "9     {'id': 10, 'name': 'WeTV', 'price': {'monthly'...\n",
      "10    {'id': 11, 'name': 'Monomax', 'price': {'month...\n",
      "Name: data, dtype: object\n"
     ]
    }
   ],
   "source": [
    "print(data)"
   ]
  },
  {
   "cell_type": "code",
   "execution_count": 8,
   "metadata": {},
   "outputs": [
    {
     "name": "stdout",
     "output_type": "stream",
     "text": [
      "0     {'id': 1, 'name': 'Netflix', 'price': {'monthl...\n",
      "1     {'id': 2, 'name': 'Disney+ (Hotstar)', 'price'...\n",
      "2     {'id': 3, 'name': 'Mubi', 'price': {'monthly':...\n",
      "3     {'id': 4, 'name': 'HBO Go', 'price': {'monthly...\n",
      "4     {'id': 5, 'name': 'Apple TV', 'price': {'month...\n",
      "5     {'id': 6, 'name': 'Amazon Prime', 'price': {'m...\n",
      "6     {'id': 7, 'name': 'Bilibili', 'price': {'month...\n",
      "7     {'id': 8, 'name': 'Viu', 'price': {'monthly': ...\n",
      "8     {'id': 9, 'name': 'iQiyi', 'price': {'monthly'...\n",
      "9     {'id': 10, 'name': 'WeTV', 'price': {'monthly'...\n",
      "10    {'id': 11, 'name': 'Monomax', 'price': {'month...\n"
     ]
    }
   ],
   "source": [
    "print(data.to_string())"
   ]
  },
  {
   "cell_type": "code",
   "execution_count": 9,
   "metadata": {},
   "outputs": [
    {
     "name": "stdout",
     "output_type": "stream",
     "text": [
      "0     {'id': 1, 'name': 'Netflix', 'price': {'monthl...\n",
      "1     {'id': 2, 'name': 'Disney+ (Hotstar)', 'price'...\n",
      "2     {'id': 3, 'name': 'Mubi', 'price': {'monthly':...\n",
      "3     {'id': 4, 'name': 'HBO Go', 'price': {'monthly...\n",
      "4     {'id': 5, 'name': 'Apple TV', 'price': {'month...\n",
      "5     {'id': 6, 'name': 'Amazon Prime', 'price': {'m...\n",
      "6     {'id': 7, 'name': 'Bilibili', 'price': {'month...\n",
      "7     {'id': 8, 'name': 'Viu', 'price': {'monthly': ...\n",
      "8     {'id': 9, 'name': 'iQiyi', 'price': {'monthly'...\n",
      "9     {'id': 10, 'name': 'WeTV', 'price': {'monthly'...\n",
      "10    {'id': 11, 'name': 'Monomax', 'price': {'month...\n",
      "Name: data, dtype: object\n"
     ]
    }
   ],
   "source": [
    "print(data)"
   ]
  },
  {
   "cell_type": "code",
   "execution_count": 10,
   "metadata": {},
   "outputs": [
    {
     "data": {
      "text/plain": [
       "0     {'id': 1, 'name': 'Netflix', 'price': {'monthl...\n",
       "1     {'id': 2, 'name': 'Disney+ (Hotstar)', 'price'...\n",
       "2     {'id': 3, 'name': 'Mubi', 'price': {'monthly':...\n",
       "3     {'id': 4, 'name': 'HBO Go', 'price': {'monthly...\n",
       "4     {'id': 5, 'name': 'Apple TV', 'price': {'month...\n",
       "5     {'id': 6, 'name': 'Amazon Prime', 'price': {'m...\n",
       "6     {'id': 7, 'name': 'Bilibili', 'price': {'month...\n",
       "7     {'id': 8, 'name': 'Viu', 'price': {'monthly': ...\n",
       "8     {'id': 9, 'name': 'iQiyi', 'price': {'monthly'...\n",
       "9     {'id': 10, 'name': 'WeTV', 'price': {'monthly'...\n",
       "10    {'id': 11, 'name': 'Monomax', 'price': {'month...\n",
       "Name: data, dtype: object"
      ]
     },
     "execution_count": 10,
     "metadata": {},
     "output_type": "execute_result"
    }
   ],
   "source": [
    "data"
   ]
  },
  {
   "cell_type": "code",
   "execution_count": 11,
   "metadata": {},
   "outputs": [
    {
     "name": "stdout",
     "output_type": "stream",
     "text": [
      "{'id': 1, 'name': 'Netflix', 'price': {'monthly': {'mobile': 99.0, 'basic': 169.0, 'standard': 349.0, 'premium': 419.0}}}\n"
     ]
    }
   ],
   "source": [
    "print(data[0])"
   ]
  },
  {
   "cell_type": "code",
   "execution_count": null,
   "metadata": {},
   "outputs": [],
   "source": []
  }
 ],
 "metadata": {
  "kernelspec": {
   "display_name": "base",
   "language": "python",
   "name": "python3"
  },
  "language_info": {
   "codemirror_mode": {
    "name": "ipython",
    "version": 3
   },
   "file_extension": ".py",
   "mimetype": "text/x-python",
   "name": "python",
   "nbconvert_exporter": "python",
   "pygments_lexer": "ipython3",
   "version": "3.8.8"
  }
 },
 "nbformat": 4,
 "nbformat_minor": 2
}
